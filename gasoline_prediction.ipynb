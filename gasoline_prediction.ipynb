{
 "cells": [
  {
   "cell_type": "markdown",
   "metadata": {},
   "source": [
    "# Imports"
   ]
  },
  {
   "cell_type": "code",
   "execution_count": 1,
   "metadata": {},
   "outputs": [],
   "source": [
    "import pandas as pd\n",
    "import os\n",
    "import matplotlib.pyplot as plt\n",
    "import datetime\n",
    "import numpy as np\n",
    "import torch\n",
    "import torch.nn as nn\n",
    "import torch.functional as F\n",
    "import torch.optim as optim\n",
    "from sklearn.preprocessing import MinMaxScaler, StandardScaler"
   ]
  },
  {
   "cell_type": "markdown",
   "metadata": {},
   "source": [
    "# First look at the data"
   ]
  },
  {
   "cell_type": "code",
   "execution_count": 2,
   "metadata": {},
   "outputs": [
    {
     "data": {
      "text/plain": [
       "Index(['uuid', 'name', 'brand', 'street', 'house_number', 'post_code', 'city',\n",
       "       'latitude', 'longitude'],\n",
       "      dtype='object')"
      ]
     },
     "execution_count": 2,
     "metadata": {},
     "output_type": "execute_result"
    }
   ],
   "source": [
    "df = pd.read_csv(\"tankerkoenig-data/stations/stations.csv\")\n",
    "df.columns"
   ]
  },
  {
   "cell_type": "markdown",
   "metadata": {},
   "source": [
    "# Getting the id for my City"
   ]
  },
  {
   "cell_type": "code",
   "execution_count": 3,
   "metadata": {},
   "outputs": [
    {
     "name": "stdout",
     "output_type": "stream",
     "text": [
      "b256bac4-d070-4c6d-b1d9-f70aea3f39dc\n"
     ]
    }
   ],
   "source": [
    "uuid = str(df[df['city'] == 'Bann']['uuid'].to_numpy()[0])\n",
    "print(uuid)"
   ]
  },
  {
   "cell_type": "markdown",
   "metadata": {},
   "source": [
    "# Getting the data belonging to the id \n",
    "(+ saving because this cell takes a long time)"
   ]
  },
  {
   "cell_type": "code",
   "execution_count": 4,
   "metadata": {
    "scrolled": true
   },
   "outputs": [
    {
     "name": "stdout",
     "output_type": "stream",
     "text": [
      "progress: 0.01     25/2502\n",
      "progress: 0.02     50/2502\n",
      "progress: 0.03     75/2502\n",
      "progress: 0.04     100/2502\n",
      "progress: 0.05     125/2502\n",
      "progress: 0.06     150/2502\n",
      "progress: 0.07     175/2502\n",
      "progress: 0.08     200/2502\n",
      "progress: 0.09     225/2502\n",
      "progress: 0.1     250/2502\n",
      "progress: 0.11     275/2502\n",
      "progress: 0.12     300/2502\n",
      "progress: 0.13     325/2502\n",
      "progress: 0.14     350/2502\n",
      "progress: 0.15     375/2502\n",
      "progress: 0.16     400/2502\n",
      "progress: 0.17     425/2502\n",
      "progress: 0.18     450/2502\n",
      "progress: 0.19     475/2502\n",
      "progress: 0.2     500/2502\n",
      "progress: 0.21     525/2502\n",
      "progress: 0.22     550/2502\n",
      "progress: 0.23     575/2502\n",
      "progress: 0.24     600/2502\n",
      "progress: 0.25     625/2502\n",
      "progress: 0.26     650/2502\n",
      "progress: 0.27     675/2502\n",
      "progress: 0.28     700/2502\n",
      "progress: 0.29     725/2502\n",
      "progress: 0.3     750/2502\n",
      "progress: 0.31     775/2502\n",
      "progress: 0.32     800/2502\n",
      "progress: 0.33     825/2502\n",
      "progress: 0.34     850/2502\n",
      "progress: 0.35     875/2502\n",
      "progress: 0.36     900/2502\n",
      "progress: 0.37     925/2502\n",
      "progress: 0.38     950/2502\n",
      "progress: 0.39     975/2502\n",
      "progress: 0.4     1000/2502\n",
      "progress: 0.41     1025/2502\n",
      "progress: 0.42     1050/2502\n",
      "progress: 0.43     1075/2502\n",
      "progress: 0.44     1100/2502\n",
      "progress: 0.45     1125/2502\n",
      "progress: 0.46     1150/2502\n",
      "progress: 0.47     1175/2502\n",
      "progress: 0.48     1200/2502\n",
      "progress: 0.49     1225/2502\n",
      "progress: 0.5     1250/2502\n",
      "progress: 0.51     1275/2502\n",
      "progress: 0.52     1300/2502\n",
      "progress: 0.53     1325/2502\n",
      "progress: 0.54     1350/2502\n",
      "progress: 0.55     1375/2502\n",
      "progress: 0.56     1400/2502\n",
      "progress: 0.57     1425/2502\n",
      "progress: 0.58     1450/2502\n",
      "progress: 0.59     1475/2502\n",
      "progress: 0.6     1500/2502\n",
      "progress: 0.61     1525/2502\n",
      "progress: 0.62     1550/2502\n",
      "progress: 0.63     1575/2502\n",
      "progress: 0.64     1600/2502\n",
      "progress: 0.65     1625/2502\n",
      "progress: 0.66     1650/2502\n",
      "progress: 0.67     1675/2502\n",
      "progress: 0.68     1700/2502\n",
      "progress: 0.69     1725/2502\n",
      "progress: 0.7     1750/2502\n",
      "progress: 0.71     1775/2502\n",
      "progress: 0.72     1800/2502\n",
      "progress: 0.73     1825/2502\n",
      "progress: 0.74     1850/2502\n",
      "progress: 0.75     1875/2502\n",
      "progress: 0.76     1900/2502\n",
      "progress: 0.77     1925/2502\n",
      "progress: 0.78     1950/2502\n",
      "progress: 0.79     1975/2502\n",
      "progress: 0.8     2000/2502\n",
      "progress: 0.81     2025/2502\n",
      "progress: 0.82     2050/2502\n",
      "progress: 0.83     2075/2502\n",
      "progress: 0.84     2100/2502\n",
      "progress: 0.85     2125/2502\n",
      "progress: 0.86     2150/2502\n",
      "progress: 0.87     2175/2502\n",
      "progress: 0.88     2200/2502\n",
      "progress: 0.89     2225/2502\n",
      "progress: 0.9     2250/2502\n",
      "progress: 0.91     2275/2502\n",
      "progress: 0.92     2300/2502\n",
      "progress: 0.93     2325/2502\n",
      "progress: 0.94     2350/2502\n",
      "progress: 0.95     2375/2502\n",
      "progress: 0.96     2400/2502\n",
      "progress: 0.97     2425/2502\n",
      "progress: 0.98     2450/2502\n",
      "progress: 0.99     2475/2502\n",
      "progress: 1.0     2500/2502\n"
     ]
    }
   ],
   "source": [
    "# get data only for gasstation with uuid == 'b256bac4-d070-4c6d-.b1d9-f70aea3f39dc'\n",
    "\n",
    "data = pd.DataFrame(columns = ['date', 'e5', 'diesel', 'e10'])\n",
    "\n",
    "files = []\n",
    "for (dirpath, dirnames, filenames) in os.walk(\"tankerkoenig-data/prices\"):\n",
    "    for file in filenames:\n",
    "        files.append(dirpath+'/'+file)\n",
    "\n",
    "counter = 0\n",
    "for file in files[::-1]:\n",
    "    counter += 1\n",
    "    if counter % 25 == 0:\n",
    "        print(\"progress: \" + str(round(counter/len(files), 2)) + \"     \" + str(counter) + \"/\" + str(len(files)))\n",
    "    df = pd.read_csv(file)\n",
    "    if uuid in df.values:\n",
    "        new = df[df['station_uuid'] == uuid][['date', 'e5', 'diesel', 'e10']]\n",
    "        # append row to the dataframe\n",
    "        data = data.append(new, ignore_index=True)\n",
    "\n",
    "data.to_csv(\"data.csv\")"
   ]
  },
  {
   "cell_type": "markdown",
   "metadata": {},
   "source": [
    "# Load data without running the cell above to save time"
   ]
  },
  {
   "cell_type": "code",
   "execution_count": 5,
   "metadata": {},
   "outputs": [
    {
     "data": {
      "text/html": [
       "<div>\n",
       "<style scoped>\n",
       "    .dataframe tbody tr th:only-of-type {\n",
       "        vertical-align: middle;\n",
       "    }\n",
       "\n",
       "    .dataframe tbody tr th {\n",
       "        vertical-align: top;\n",
       "    }\n",
       "\n",
       "    .dataframe thead th {\n",
       "        text-align: right;\n",
       "    }\n",
       "</style>\n",
       "<table border=\"1\" class=\"dataframe\">\n",
       "  <thead>\n",
       "    <tr style=\"text-align: right;\">\n",
       "      <th></th>\n",
       "      <th>e5</th>\n",
       "      <th>diesel</th>\n",
       "      <th>e10</th>\n",
       "    </tr>\n",
       "    <tr>\n",
       "      <th>date</th>\n",
       "      <th></th>\n",
       "      <th></th>\n",
       "      <th></th>\n",
       "    </tr>\n",
       "  </thead>\n",
       "  <tbody>\n",
       "    <tr>\n",
       "      <th>2019-12-30 14:01:08+01:00</th>\n",
       "      <td>1.399</td>\n",
       "      <td>1.259</td>\n",
       "      <td>0.0</td>\n",
       "    </tr>\n",
       "    <tr>\n",
       "      <th>2019-12-25 18:25:24+01:00</th>\n",
       "      <td>1.399</td>\n",
       "      <td>1.259</td>\n",
       "      <td>0.0</td>\n",
       "    </tr>\n",
       "    <tr>\n",
       "      <th>2019-12-22 18:47:04+01:00</th>\n",
       "      <td>1.399</td>\n",
       "      <td>1.259</td>\n",
       "      <td>0.0</td>\n",
       "    </tr>\n",
       "    <tr>\n",
       "      <th>2019-12-04 23:56:04+01:00</th>\n",
       "      <td>1.399</td>\n",
       "      <td>1.259</td>\n",
       "      <td>0.0</td>\n",
       "    </tr>\n",
       "    <tr>\n",
       "      <th>2019-11-29 05:39:04+01:00</th>\n",
       "      <td>1.429</td>\n",
       "      <td>1.279</td>\n",
       "      <td>0.0</td>\n",
       "    </tr>\n",
       "  </tbody>\n",
       "</table>\n",
       "</div>"
      ],
      "text/plain": [
       "                              e5  diesel  e10\n",
       "date                                         \n",
       "2019-12-30 14:01:08+01:00  1.399   1.259  0.0\n",
       "2019-12-25 18:25:24+01:00  1.399   1.259  0.0\n",
       "2019-12-22 18:47:04+01:00  1.399   1.259  0.0\n",
       "2019-12-04 23:56:04+01:00  1.399   1.259  0.0\n",
       "2019-11-29 05:39:04+01:00  1.429   1.279  0.0"
      ]
     },
     "execution_count": 5,
     "metadata": {},
     "output_type": "execute_result"
    }
   ],
   "source": [
    "data = pd.read_csv(\"data.csv\")\n",
    "data.index = data['date']\n",
    "data.index = pd.to_datetime(data.index)\n",
    "data.drop(['Unnamed: 0', 'date'], inplace=True, axis=1)\n",
    "data.head()"
   ]
  },
  {
   "cell_type": "markdown",
   "metadata": {},
   "source": [
    "# Remove timezone from data"
   ]
  },
  {
   "cell_type": "code",
   "execution_count": 6,
   "metadata": {},
   "outputs": [
    {
     "data": {
      "text/html": [
       "<div>\n",
       "<style scoped>\n",
       "    .dataframe tbody tr th:only-of-type {\n",
       "        vertical-align: middle;\n",
       "    }\n",
       "\n",
       "    .dataframe tbody tr th {\n",
       "        vertical-align: top;\n",
       "    }\n",
       "\n",
       "    .dataframe thead th {\n",
       "        text-align: right;\n",
       "    }\n",
       "</style>\n",
       "<table border=\"1\" class=\"dataframe\">\n",
       "  <thead>\n",
       "    <tr style=\"text-align: right;\">\n",
       "      <th></th>\n",
       "      <th>e5</th>\n",
       "      <th>diesel</th>\n",
       "      <th>e10</th>\n",
       "    </tr>\n",
       "  </thead>\n",
       "  <tbody>\n",
       "    <tr>\n",
       "      <th>2019-12-30 14:01:08</th>\n",
       "      <td>1.399</td>\n",
       "      <td>1.259</td>\n",
       "      <td>0.0</td>\n",
       "    </tr>\n",
       "    <tr>\n",
       "      <th>2019-12-25 18:25:24</th>\n",
       "      <td>1.399</td>\n",
       "      <td>1.259</td>\n",
       "      <td>0.0</td>\n",
       "    </tr>\n",
       "    <tr>\n",
       "      <th>2019-12-22 18:47:04</th>\n",
       "      <td>1.399</td>\n",
       "      <td>1.259</td>\n",
       "      <td>0.0</td>\n",
       "    </tr>\n",
       "    <tr>\n",
       "      <th>2019-12-04 23:56:04</th>\n",
       "      <td>1.399</td>\n",
       "      <td>1.259</td>\n",
       "      <td>0.0</td>\n",
       "    </tr>\n",
       "    <tr>\n",
       "      <th>2019-11-29 05:39:04</th>\n",
       "      <td>1.429</td>\n",
       "      <td>1.279</td>\n",
       "      <td>0.0</td>\n",
       "    </tr>\n",
       "  </tbody>\n",
       "</table>\n",
       "</div>"
      ],
      "text/plain": [
       "                        e5  diesel  e10\n",
       "2019-12-30 14:01:08  1.399   1.259  0.0\n",
       "2019-12-25 18:25:24  1.399   1.259  0.0\n",
       "2019-12-22 18:47:04  1.399   1.259  0.0\n",
       "2019-12-04 23:56:04  1.399   1.259  0.0\n",
       "2019-11-29 05:39:04  1.429   1.279  0.0"
      ]
     },
     "execution_count": 6,
     "metadata": {},
     "output_type": "execute_result"
    }
   ],
   "source": [
    "data.index = pd.Index([i.replace(tzinfo=None) for i in data.index])\n",
    "data.head()"
   ]
  },
  {
   "cell_type": "markdown",
   "metadata": {},
   "source": [
    "# Looking only at e5"
   ]
  },
  {
   "cell_type": "code",
   "execution_count": 7,
   "metadata": {},
   "outputs": [
    {
     "data": {
      "text/html": [
       "<div>\n",
       "<style scoped>\n",
       "    .dataframe tbody tr th:only-of-type {\n",
       "        vertical-align: middle;\n",
       "    }\n",
       "\n",
       "    .dataframe tbody tr th {\n",
       "        vertical-align: top;\n",
       "    }\n",
       "\n",
       "    .dataframe thead th {\n",
       "        text-align: right;\n",
       "    }\n",
       "</style>\n",
       "<table border=\"1\" class=\"dataframe\">\n",
       "  <thead>\n",
       "    <tr style=\"text-align: right;\">\n",
       "      <th></th>\n",
       "      <th>e5</th>\n",
       "    </tr>\n",
       "  </thead>\n",
       "  <tbody>\n",
       "    <tr>\n",
       "      <th>2019-12-30 14:01:08</th>\n",
       "      <td>1.399</td>\n",
       "    </tr>\n",
       "    <tr>\n",
       "      <th>2019-12-25 18:25:24</th>\n",
       "      <td>1.399</td>\n",
       "    </tr>\n",
       "    <tr>\n",
       "      <th>2019-12-22 18:47:04</th>\n",
       "      <td>1.399</td>\n",
       "    </tr>\n",
       "    <tr>\n",
       "      <th>2019-12-04 23:56:04</th>\n",
       "      <td>1.399</td>\n",
       "    </tr>\n",
       "    <tr>\n",
       "      <th>2019-11-29 05:39:04</th>\n",
       "      <td>1.429</td>\n",
       "    </tr>\n",
       "  </tbody>\n",
       "</table>\n",
       "</div>"
      ],
      "text/plain": [
       "                        e5\n",
       "2019-12-30 14:01:08  1.399\n",
       "2019-12-25 18:25:24  1.399\n",
       "2019-12-22 18:47:04  1.399\n",
       "2019-12-04 23:56:04  1.399\n",
       "2019-11-29 05:39:04  1.429"
      ]
     },
     "execution_count": 7,
     "metadata": {},
     "output_type": "execute_result"
    }
   ],
   "source": [
    "data.drop(['e10', 'diesel'], inplace=True, axis=1)\n",
    "data.head()"
   ]
  },
  {
   "cell_type": "markdown",
   "metadata": {},
   "source": [
    "# Interpolate missing data so we get an hourly spaced time series \n",
    "(The raw data set consists of gasoline prices whenever the station changes the price.\n",
    "Sometimes these price changes occur often and sometimes they occur only sporadically. \n",
    "Therefor we interpolate the time series to get an hourly spaced time series.\n",
    "The resulting time series can then be used to extract features and for the statistics)"
   ]
  },
  {
   "cell_type": "code",
   "execution_count": 8,
   "metadata": {},
   "outputs": [
    {
     "data": {
      "text/html": [
       "<div>\n",
       "<style scoped>\n",
       "    .dataframe tbody tr th:only-of-type {\n",
       "        vertical-align: middle;\n",
       "    }\n",
       "\n",
       "    .dataframe tbody tr th {\n",
       "        vertical-align: top;\n",
       "    }\n",
       "\n",
       "    .dataframe thead th {\n",
       "        text-align: right;\n",
       "    }\n",
       "</style>\n",
       "<table border=\"1\" class=\"dataframe\">\n",
       "  <thead>\n",
       "    <tr style=\"text-align: right;\">\n",
       "      <th></th>\n",
       "      <th>e5</th>\n",
       "    </tr>\n",
       "    <tr>\n",
       "      <th>date</th>\n",
       "      <th></th>\n",
       "    </tr>\n",
       "  </thead>\n",
       "  <tbody>\n",
       "    <tr>\n",
       "      <th>2014-06-08 10:00:00</th>\n",
       "      <td>1.578883</td>\n",
       "    </tr>\n",
       "    <tr>\n",
       "      <th>2014-06-08 11:00:00</th>\n",
       "      <td>1.578179</td>\n",
       "    </tr>\n",
       "    <tr>\n",
       "      <th>2014-06-08 12:00:00</th>\n",
       "      <td>1.577474</td>\n",
       "    </tr>\n",
       "    <tr>\n",
       "      <th>2014-06-08 13:00:00</th>\n",
       "      <td>1.576770</td>\n",
       "    </tr>\n",
       "    <tr>\n",
       "      <th>2014-06-08 14:00:00</th>\n",
       "      <td>1.576066</td>\n",
       "    </tr>\n",
       "    <tr>\n",
       "      <th>...</th>\n",
       "      <td>...</td>\n",
       "    </tr>\n",
       "    <tr>\n",
       "      <th>2019-12-30 11:00:00</th>\n",
       "      <td>1.399000</td>\n",
       "    </tr>\n",
       "    <tr>\n",
       "      <th>2019-12-30 12:00:00</th>\n",
       "      <td>1.399000</td>\n",
       "    </tr>\n",
       "    <tr>\n",
       "      <th>2019-12-30 13:00:00</th>\n",
       "      <td>1.399000</td>\n",
       "    </tr>\n",
       "    <tr>\n",
       "      <th>2019-12-30 14:00:00</th>\n",
       "      <td>1.399000</td>\n",
       "    </tr>\n",
       "    <tr>\n",
       "      <th>2019-12-30 15:00:00</th>\n",
       "      <td>1.399000</td>\n",
       "    </tr>\n",
       "  </tbody>\n",
       "</table>\n",
       "<p>48750 rows × 1 columns</p>\n",
       "</div>"
      ],
      "text/plain": [
       "                           e5\n",
       "date                         \n",
       "2014-06-08 10:00:00  1.578883\n",
       "2014-06-08 11:00:00  1.578179\n",
       "2014-06-08 12:00:00  1.577474\n",
       "2014-06-08 13:00:00  1.576770\n",
       "2014-06-08 14:00:00  1.576066\n",
       "...                       ...\n",
       "2019-12-30 11:00:00  1.399000\n",
       "2019-12-30 12:00:00  1.399000\n",
       "2019-12-30 13:00:00  1.399000\n",
       "2019-12-30 14:00:00  1.399000\n",
       "2019-12-30 15:00:00  1.399000\n",
       "\n",
       "[48750 rows x 1 columns]"
      ]
     },
     "execution_count": 8,
     "metadata": {},
     "output_type": "execute_result"
    }
   ],
   "source": [
    "def find_round_direction(time_1):\n",
    "    time_2 = time_1.replace(minute=30)\n",
    "    return round(int(time_2.minute - time_1.minute))\n",
    "\n",
    "def round_datetime(time_1):\n",
    "    if find_round_direction(time_1) < 0:\n",
    "        time_1 = time_1.replace(minute=0).replace(second=0)\n",
    "    else:\n",
    "        time_1 = time_1.replace(minute=0).replace(second=0) + datetime.timedelta(hours=1)\n",
    "    return time_1\n",
    "\n",
    "t = data.index\n",
    "start = round_datetime(data.index[0].replace(tzinfo=None))\n",
    "end = round_datetime(data.index[-1].replace(tzinfo=None))\n",
    "r = pd.Index(pd.date_range(end, start, freq='H'), name=t.name)\n",
    "data = data.reindex(t.union(r)).interpolate('index').loc[r]\n",
    "data.index.name = 'date'\n",
    "data = data[1:]\n",
    "data"
   ]
  },
  {
   "cell_type": "markdown",
   "metadata": {},
   "source": [
    "# Extract features"
   ]
  },
  {
   "cell_type": "code",
   "execution_count": 9,
   "metadata": {},
   "outputs": [
    {
     "data": {
      "text/html": [
       "<div>\n",
       "<style scoped>\n",
       "    .dataframe tbody tr th:only-of-type {\n",
       "        vertical-align: middle;\n",
       "    }\n",
       "\n",
       "    .dataframe tbody tr th {\n",
       "        vertical-align: top;\n",
       "    }\n",
       "\n",
       "    .dataframe thead th {\n",
       "        text-align: right;\n",
       "    }\n",
       "</style>\n",
       "<table border=\"1\" class=\"dataframe\">\n",
       "  <thead>\n",
       "    <tr style=\"text-align: right;\">\n",
       "      <th></th>\n",
       "      <th>e5</th>\n",
       "      <th>date_float</th>\n",
       "      <th>year</th>\n",
       "      <th>month</th>\n",
       "      <th>day</th>\n",
       "      <th>hour</th>\n",
       "      <th>weekday</th>\n",
       "    </tr>\n",
       "    <tr>\n",
       "      <th>date</th>\n",
       "      <th></th>\n",
       "      <th></th>\n",
       "      <th></th>\n",
       "      <th></th>\n",
       "      <th></th>\n",
       "      <th></th>\n",
       "      <th></th>\n",
       "    </tr>\n",
       "  </thead>\n",
       "  <tbody>\n",
       "    <tr>\n",
       "      <th>2014-06-08 10:00:00</th>\n",
       "      <td>1.578883</td>\n",
       "      <td>-112543200.0</td>\n",
       "      <td>2014</td>\n",
       "      <td>6</td>\n",
       "      <td>8</td>\n",
       "      <td>10.0</td>\n",
       "      <td>6</td>\n",
       "    </tr>\n",
       "    <tr>\n",
       "      <th>2014-06-08 11:00:00</th>\n",
       "      <td>1.578179</td>\n",
       "      <td>-112539600.0</td>\n",
       "      <td>2014</td>\n",
       "      <td>6</td>\n",
       "      <td>8</td>\n",
       "      <td>11.0</td>\n",
       "      <td>6</td>\n",
       "    </tr>\n",
       "    <tr>\n",
       "      <th>2014-06-08 12:00:00</th>\n",
       "      <td>1.577474</td>\n",
       "      <td>-112536000.0</td>\n",
       "      <td>2014</td>\n",
       "      <td>6</td>\n",
       "      <td>8</td>\n",
       "      <td>12.0</td>\n",
       "      <td>6</td>\n",
       "    </tr>\n",
       "    <tr>\n",
       "      <th>2014-06-08 13:00:00</th>\n",
       "      <td>1.576770</td>\n",
       "      <td>-112532400.0</td>\n",
       "      <td>2014</td>\n",
       "      <td>6</td>\n",
       "      <td>8</td>\n",
       "      <td>13.0</td>\n",
       "      <td>6</td>\n",
       "    </tr>\n",
       "    <tr>\n",
       "      <th>2014-06-08 14:00:00</th>\n",
       "      <td>1.576066</td>\n",
       "      <td>-112528800.0</td>\n",
       "      <td>2014</td>\n",
       "      <td>6</td>\n",
       "      <td>8</td>\n",
       "      <td>14.0</td>\n",
       "      <td>6</td>\n",
       "    </tr>\n",
       "    <tr>\n",
       "      <th>...</th>\n",
       "      <td>...</td>\n",
       "      <td>...</td>\n",
       "      <td>...</td>\n",
       "      <td>...</td>\n",
       "      <td>...</td>\n",
       "      <td>...</td>\n",
       "      <td>...</td>\n",
       "    </tr>\n",
       "    <tr>\n",
       "      <th>2019-12-30 11:00:00</th>\n",
       "      <td>1.399000</td>\n",
       "      <td>62938800.0</td>\n",
       "      <td>2019</td>\n",
       "      <td>12</td>\n",
       "      <td>30</td>\n",
       "      <td>11.0</td>\n",
       "      <td>0</td>\n",
       "    </tr>\n",
       "    <tr>\n",
       "      <th>2019-12-30 12:00:00</th>\n",
       "      <td>1.399000</td>\n",
       "      <td>62942400.0</td>\n",
       "      <td>2019</td>\n",
       "      <td>12</td>\n",
       "      <td>30</td>\n",
       "      <td>12.0</td>\n",
       "      <td>0</td>\n",
       "    </tr>\n",
       "    <tr>\n",
       "      <th>2019-12-30 13:00:00</th>\n",
       "      <td>1.399000</td>\n",
       "      <td>62946000.0</td>\n",
       "      <td>2019</td>\n",
       "      <td>12</td>\n",
       "      <td>30</td>\n",
       "      <td>13.0</td>\n",
       "      <td>0</td>\n",
       "    </tr>\n",
       "    <tr>\n",
       "      <th>2019-12-30 14:00:00</th>\n",
       "      <td>1.399000</td>\n",
       "      <td>62949600.0</td>\n",
       "      <td>2019</td>\n",
       "      <td>12</td>\n",
       "      <td>30</td>\n",
       "      <td>14.0</td>\n",
       "      <td>0</td>\n",
       "    </tr>\n",
       "    <tr>\n",
       "      <th>2019-12-30 15:00:00</th>\n",
       "      <td>1.399000</td>\n",
       "      <td>62953200.0</td>\n",
       "      <td>2019</td>\n",
       "      <td>12</td>\n",
       "      <td>30</td>\n",
       "      <td>15.0</td>\n",
       "      <td>0</td>\n",
       "    </tr>\n",
       "  </tbody>\n",
       "</table>\n",
       "<p>48750 rows × 7 columns</p>\n",
       "</div>"
      ],
      "text/plain": [
       "                           e5   date_float  year  month  day  hour  weekday\n",
       "date                                                                       \n",
       "2014-06-08 10:00:00  1.578883 -112543200.0  2014      6    8  10.0        6\n",
       "2014-06-08 11:00:00  1.578179 -112539600.0  2014      6    8  11.0        6\n",
       "2014-06-08 12:00:00  1.577474 -112536000.0  2014      6    8  12.0        6\n",
       "2014-06-08 13:00:00  1.576770 -112532400.0  2014      6    8  13.0        6\n",
       "2014-06-08 14:00:00  1.576066 -112528800.0  2014      6    8  14.0        6\n",
       "...                       ...          ...   ...    ...  ...   ...      ...\n",
       "2019-12-30 11:00:00  1.399000   62938800.0  2019     12   30  11.0        0\n",
       "2019-12-30 12:00:00  1.399000   62942400.0  2019     12   30  12.0        0\n",
       "2019-12-30 13:00:00  1.399000   62946000.0  2019     12   30  13.0        0\n",
       "2019-12-30 14:00:00  1.399000   62949600.0  2019     12   30  14.0        0\n",
       "2019-12-30 15:00:00  1.399000   62953200.0  2019     12   30  15.0        0\n",
       "\n",
       "[48750 rows x 7 columns]"
      ]
     },
     "execution_count": 9,
     "metadata": {},
     "output_type": "execute_result"
    }
   ],
   "source": [
    "# transform from type str to [datetime, seconds, year, month, day, hour, weekday]\n",
    "def transform_date(date):\n",
    "    #a = datetime.datetime.strptime(date[0:-3], \"%Y-%m-%d %H:%M:%S\")\n",
    "    a = date\n",
    "    return (a-zero).total_seconds(), a.year, a.month, a.day, a.hour+a.minute/60+a.second/3600, a.weekday()\n",
    "\n",
    "def extract_features(df):\n",
    "    dates_float = []\n",
    "    years = []\n",
    "    months = []\n",
    "    days = []\n",
    "    hours = []\n",
    "    weekdays = []\n",
    "    for date in df.index:\n",
    "        total_seconds, year, month, day, hour, weekday = transform_date(date)\n",
    "        dates_float.append(total_seconds)\n",
    "        years.append(year)\n",
    "        months.append(month)\n",
    "        days.append(day)\n",
    "        hours.append(hour)\n",
    "        weekdays.append(weekday)\n",
    "        \n",
    "    df['date_float'] = dates_float\n",
    "    df['year'] = years\n",
    "    df['month'] = months\n",
    "    df['day'] = days\n",
    "    df['hour'] = hours\n",
    "    df['weekday'] = weekdays\n",
    "    \n",
    "    return df\n",
    "      \n",
    "\n",
    "zero = datetime.datetime(2018, 1, 1, 0, 0, 0)\n",
    "data = extract_features(data)\n",
    "data = data.sort_values(by=['date_float'])\n",
    "data"
   ]
  },
  {
   "cell_type": "markdown",
   "metadata": {},
   "source": [
    "# Plotting e5 price time series"
   ]
  },
  {
   "cell_type": "code",
   "execution_count": 10,
   "metadata": {},
   "outputs": [
    {
     "data": {
      "image/png": "[encoded data removed]",
      "text/plain": [
       "<Figure size 432x288 with 1 Axes>"
      ]
     },
     "metadata": {
      "needs_background": "light"
     },
     "output_type": "display_data"
    }
   ],
   "source": [
    "data.plot(kind='line', y=['e5'], color=['red'], use_index=True)\n",
    "plt.show()"
   ]
  },
  {
   "cell_type": "markdown",
   "metadata": {},
   "source": [
    "# The data between 2015 and 2016 is missing -> drop it"
   ]
  },
  {
   "cell_type": "code",
   "execution_count": 11,
   "metadata": {},
   "outputs": [
    {
     "data": {
      "text/html": [
       "<div>\n",
       "<style scoped>\n",
       "    .dataframe tbody tr th:only-of-type {\n",
       "        vertical-align: middle;\n",
       "    }\n",
       "\n",
       "    .dataframe tbody tr th {\n",
       "        vertical-align: top;\n",
       "    }\n",
       "\n",
       "    .dataframe thead th {\n",
       "        text-align: right;\n",
       "    }\n",
       "</style>\n",
       "<table border=\"1\" class=\"dataframe\">\n",
       "  <thead>\n",
       "    <tr style=\"text-align: right;\">\n",
       "      <th></th>\n",
       "      <th>e5</th>\n",
       "      <th>date_float</th>\n",
       "      <th>year</th>\n",
       "      <th>month</th>\n",
       "      <th>day</th>\n",
       "      <th>hour</th>\n",
       "      <th>weekday</th>\n",
       "    </tr>\n",
       "    <tr>\n",
       "      <th>date</th>\n",
       "      <th></th>\n",
       "      <th></th>\n",
       "      <th></th>\n",
       "      <th></th>\n",
       "      <th></th>\n",
       "      <th></th>\n",
       "      <th></th>\n",
       "    </tr>\n",
       "  </thead>\n",
       "  <tbody>\n",
       "    <tr>\n",
       "      <th>2016-05-01 00:00:00</th>\n",
       "      <td>1.413937</td>\n",
       "      <td>-52704000.0</td>\n",
       "      <td>2016</td>\n",
       "      <td>5</td>\n",
       "      <td>1</td>\n",
       "      <td>0.0</td>\n",
       "      <td>6</td>\n",
       "    </tr>\n",
       "    <tr>\n",
       "      <th>2016-05-01 01:00:00</th>\n",
       "      <td>1.403663</td>\n",
       "      <td>-52700400.0</td>\n",
       "      <td>2016</td>\n",
       "      <td>5</td>\n",
       "      <td>1</td>\n",
       "      <td>1.0</td>\n",
       "      <td>6</td>\n",
       "    </tr>\n",
       "    <tr>\n",
       "      <th>2016-05-01 02:00:00</th>\n",
       "      <td>1.393388</td>\n",
       "      <td>-52696800.0</td>\n",
       "      <td>2016</td>\n",
       "      <td>5</td>\n",
       "      <td>1</td>\n",
       "      <td>2.0</td>\n",
       "      <td>6</td>\n",
       "    </tr>\n",
       "    <tr>\n",
       "      <th>2016-05-01 03:00:00</th>\n",
       "      <td>1.383114</td>\n",
       "      <td>-52693200.0</td>\n",
       "      <td>2016</td>\n",
       "      <td>5</td>\n",
       "      <td>1</td>\n",
       "      <td>3.0</td>\n",
       "      <td>6</td>\n",
       "    </tr>\n",
       "    <tr>\n",
       "      <th>2016-05-01 04:00:00</th>\n",
       "      <td>1.372840</td>\n",
       "      <td>-52689600.0</td>\n",
       "      <td>2016</td>\n",
       "      <td>5</td>\n",
       "      <td>1</td>\n",
       "      <td>4.0</td>\n",
       "      <td>6</td>\n",
       "    </tr>\n",
       "  </tbody>\n",
       "</table>\n",
       "</div>"
      ],
      "text/plain": [
       "                           e5  date_float  year  month  day  hour  weekday\n",
       "date                                                                      \n",
       "2016-05-01 00:00:00  1.413937 -52704000.0  2016      5    1   0.0        6\n",
       "2016-05-01 01:00:00  1.403663 -52700400.0  2016      5    1   1.0        6\n",
       "2016-05-01 02:00:00  1.393388 -52696800.0  2016      5    1   2.0        6\n",
       "2016-05-01 03:00:00  1.383114 -52693200.0  2016      5    1   3.0        6\n",
       "2016-05-01 04:00:00  1.372840 -52689600.0  2016      5    1   4.0        6"
      ]
     },
     "execution_count": 11,
     "metadata": {},
     "output_type": "execute_result"
    }
   ],
   "source": [
    "data = data[data.index >= \"2016-05-1\"]\n",
    "data.head()"
   ]
  },
  {
   "cell_type": "markdown",
   "metadata": {},
   "source": [
    "# Plotting e5 from 2016 on"
   ]
  },
  {
   "cell_type": "code",
   "execution_count": 12,
   "metadata": {
    "scrolled": true
   },
   "outputs": [
    {
     "data": {
      "image/png": "[encoded data removed]",
      "text/plain": [
       "<Figure size 432x288 with 1 Axes>"
      ]
     },
     "metadata": {
      "needs_background": "light"
     },
     "output_type": "display_data"
    }
   ],
   "source": [
    "data.plot(kind='line', y=['e5'], color=['red'], use_index=True)\n",
    "plt.show()"
   ]
  },
  {
   "cell_type": "markdown",
   "metadata": {},
   "source": [
    "# The following plots show some statistics on e5 prices."
   ]
  },
  {
   "cell_type": "code",
   "execution_count": 13,
   "metadata": {},
   "outputs": [
    {
     "data": {
      "image/png": "[encoded data removed]",
      "text/plain": [
       "<Figure size 432x288 with 1 Axes>"
      ]
     },
     "metadata": {
      "needs_background": "light"
     },
     "output_type": "display_data"
    }
   ],
   "source": [
    "# calculate average e5 price overall\n",
    "avg_e5 = data['e5'].mean()\n",
    "\n",
    "color = []\n",
    "for _ in range(len(data)):\n",
    "    color.append('red')\n",
    "    \n",
    "data.plot(kind='scatter',x=['year'],y=['e5'], color=color)\n",
    "plt.plot([2016, 2019], [avg_e5, avg_e5], c='gray')\n",
    "for year in range(data['year'].min(), data['year'].max()+1):\n",
    "    plt.scatter(year, data[data['year'] == year]['e5'].mean(), c='blue')\n",
    "plt.show()"
   ]
  },
  {
   "cell_type": "code",
   "execution_count": 14,
   "metadata": {},
   "outputs": [
    {
     "data": {
      "image/png": "[encoded data removed]",
      "text/plain": [
       "<Figure size 432x288 with 1 Axes>"
      ]
     },
     "metadata": {
      "needs_background": "light"
     },
     "output_type": "display_data"
    }
   ],
   "source": [
    "data.plot(kind='scatter',x=['month'],y=['e5'], color=color)\n",
    "plt.plot([1, 12], [avg_e5, avg_e5], c='gray')\n",
    "for month in range(data['month'].min(), data['month'].max()+1):\n",
    "    plt.scatter(month, data[data['month'] == month]['e5'].mean(), c='blue')\n",
    "plt.show()"
   ]
  },
  {
   "cell_type": "code",
   "execution_count": 15,
   "metadata": {},
   "outputs": [
    {
     "data": {
      "image/png": "[encoded data removed]",
      "text/plain": [
       "<Figure size 432x288 with 1 Axes>"
      ]
     },
     "metadata": {
      "needs_background": "light"
     },
     "output_type": "display_data"
    }
   ],
   "source": [
    "data.plot(kind='scatter',x=['day'],y=['e5'], color=color)\n",
    "plt.plot([1, 31], [avg_e5, avg_e5], c='gray')\n",
    "for day in range(data['day'].min(), data['day'].max()+1):\n",
    "    plt.scatter(day, data[data['day'] == day]['e5'].mean(), c='blue')\n",
    "plt.show()"
   ]
  },
  {
   "cell_type": "code",
   "execution_count": 16,
   "metadata": {},
   "outputs": [
    {
     "name": "stdout",
     "output_type": "stream",
     "text": [
      "0 1.4085746596510904\n",
      "1 1.4039184328325862\n",
      "2 1.402156277773974\n",
      "3 1.4018066222739982\n",
      "4 1.4043533021145276\n",
      "5 1.4052624601468666\n",
      "6 1.4126272553941446\n"
     ]
    },
    {
     "data": {
      "image/png": "[encoded data removed]",
      "text/plain": [
       "<Figure size 432x288 with 1 Axes>"
      ]
     },
     "metadata": {
      "needs_background": "light"
     },
     "output_type": "display_data"
    }
   ],
   "source": [
    "data.plot(kind='scatter',x=['weekday'],y=['e5'], color=color)\n",
    "plt.plot([0, 6], [avg_e5, avg_e5], c='gray')\n",
    "for weekday in range(data['weekday'].min(), data['weekday'].max()+1):\n",
    "    plt.scatter(weekday, data[data['weekday'] == weekday]['e5'].mean(), c='blue')\n",
    "    print(weekday, data[data['weekday'] == weekday]['e5'].mean())\n",
    "plt.show()\n",
    "# monday = 0, tuesday = 1, ..."
   ]
  },
  {
   "cell_type": "code",
   "execution_count": 17,
   "metadata": {
    "scrolled": true
   },
   "outputs": [
    {
     "data": {
      "image/png": "[encoded data removed]",
      "text/plain": [
       "<Figure size 432x288 with 1 Axes>"
      ]
     },
     "metadata": {
      "needs_background": "light"
     },
     "output_type": "display_data"
    }
   ],
   "source": [
    "data.plot(kind='scatter',x=['hour'],y=['e5'], color=color)\n",
    "plt.plot([0, 23], [avg_e5, avg_e5], c='gray')\n",
    "for hour in range(0, 24):\n",
    "    plt.scatter(hour, data[data['hour'] == hour]['e5'].mean(), c='blue')\n",
    "plt.show()"
   ]
  },
  {
   "cell_type": "markdown",
   "metadata": {},
   "source": [
    "# Key takeaways from the statistics\n",
    "-> prices are highest at midnight/early morning and lowest in the evening  \n",
    "-> prices are lower mid week  \n",
    "-> the day does not have much influence on the price  \n",
    "-> prices are lowest in the first months of the year  \n",
    "-> optimal refuel time: wednesday/thursday at around 19 o'clock \n",
    "\n",
    "(note that 3.5 years of data is maybe not enough to conclude meaningful results)"
   ]
  }
 ],
 "metadata": {
  "kernelspec": {
   "display_name": "Python 3",
   "language": "python",
   "name": "python3"
  },
  "language_info": {
   "codemirror_mode": {
    "name": "ipython",
    "version": 3
   },
   "file_extension": ".py",
   "mimetype": "text/x-python",
   "name": "python",
   "nbconvert_exporter": "python",
   "pygments_lexer": "ipython3",
   "version": "3.7.7"
  }
 },
 "nbformat": 4,
 "nbformat_minor": 2
}
